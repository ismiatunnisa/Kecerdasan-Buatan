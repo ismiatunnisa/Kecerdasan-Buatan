{
 "cells": [
  {
   "cell_type": "code",
   "execution_count": 1,
   "metadata": {},
   "outputs": [],
   "source": [
    "import tensorflow as tf\n",
    "import tensorflow.keras.datasets as tfds\n",
    "import matplotlib.pyplot as plt\n",
    "import numpy as np"
   ]
  },
  {
   "cell_type": "code",
   "execution_count": 2,
   "metadata": {},
   "outputs": [],
   "source": [
    "(x_train_raw, y_train_raw),(x_test_raw, y_test_raw) = tfds.mnist.load_data()"
   ]
  },
  {
   "cell_type": "code",
   "execution_count": 3,
   "metadata": {},
   "outputs": [
    {
     "name": "stdout",
     "output_type": "stream",
     "text": [
      "panjang x train: 60000\n",
      "panjang y train: 60000\n",
      "panjang x test: 10000\n",
      "panjang y test: 10000\n"
     ]
    }
   ],
   "source": [
    "print(f'panjang x train: {len(x_train_raw)}',\n",
    "f'panjang y train: {len(y_train_raw)}',\n",
    "f'panjang x test: {len(x_test_raw)}',\n",
    "f'panjang y test: {len(y_test_raw)}',\n",
    "sep='\\n'\n",
    ")"
   ]
  },
  {
   "cell_type": "code",
   "execution_count": 4,
   "metadata": {},
   "outputs": [
    {
     "data": {
      "text/plain": [
       "<matplotlib.image.AxesImage at 0x248e580ec80>"
      ]
     },
     "execution_count": 4,
     "metadata": {},
     "output_type": "execute_result"
    },
    {
     "data": {
      "image/png": "[encoded data removed]",
      "text/plain": [
       "<Figure size 640x480 with 1 Axes>"
      ]
     },
     "metadata": {},
     "output_type": "display_data"
    }
   ],
   "source": [
    "plt.imshow(x_test_raw[1234])"
   ]
  },
  {
   "cell_type": "code",
   "execution_count": 5,
   "metadata": {},
   "outputs": [],
   "source": [
    "num_class = len(np.unique(y_train_raw))\n",
    "y_train = tf.keras.utils.to_categorical(y_train_raw, num_class)\n",
    "y_test = tf.keras.utils.to_categorical(y_test_raw, num_class)"
   ]
  },
  {
   "cell_type": "code",
   "execution_count": 6,
   "metadata": {},
   "outputs": [
    {
     "data": {
      "text/plain": [
       "(60000, 28, 28)"
      ]
     },
     "execution_count": 6,
     "metadata": {},
     "output_type": "execute_result"
    }
   ],
   "source": [
    "x_train_raw.shape"
   ]
  },
  {
   "cell_type": "code",
   "execution_count": 7,
   "metadata": {},
   "outputs": [],
   "source": [
    "x_train = tf.reshape(x_train_raw,[60000, 784])\n",
    "x_test = tf.reshape(x_test_raw,[10000, 784])"
   ]
  },
  {
   "cell_type": "code",
   "execution_count": 8,
   "metadata": {},
   "outputs": [
    {
     "data": {
      "text/plain": [
       "tensorflow.python.framework.ops.EagerTensor"
      ]
     },
     "execution_count": 8,
     "metadata": {},
     "output_type": "execute_result"
    }
   ],
   "source": [
    "type(x_train)"
   ]
  },
  {
   "cell_type": "code",
   "execution_count": 9,
   "metadata": {},
   "outputs": [],
   "source": [
    "x_train = tf.cast(x_train, tf.float32)/255\n",
    "x_test = tf.cast(x_test, tf.float32)/255"
   ]
  },
  {
   "cell_type": "code",
   "execution_count": 27,
   "metadata": {},
   "outputs": [],
   "source": [
    "#arsitektur\n",
    "model = tf.keras.Sequential([\n",
    "    tf.keras.layers.Dense(32, activation='relu', input_dim = 784),#layer\n",
    "    tf.keras.layers.Dense(32, activation='relu'),\n",
    "    tf.keras.layers.Dense(num_class, activation='softmax')\n",
    "])"
   ]
  },
  {
   "cell_type": "code",
   "execution_count": 11,
   "metadata": {},
   "outputs": [
    {
     "name": "stdout",
     "output_type": "stream",
     "text": [
      "Model: \"sequential\"\n",
      "_________________________________________________________________\n",
      " Layer (type)                Output Shape              Param #   \n",
      "=================================================================\n",
      " dense (Dense)               (None, 32)                25120     \n",
      "                                                                 \n",
      " dense_1 (Dense)             (None, 32)                1056      \n",
      "                                                                 \n",
      " dense_2 (Dense)             (None, 10)                330       \n",
      "                                                                 \n",
      "=================================================================\n",
      "Total params: 26,506\n",
      "Trainable params: 26,506\n",
      "Non-trainable params: 0\n",
      "_________________________________________________________________\n"
     ]
    }
   ],
   "source": [
    "model.summary()"
   ]
  },
  {
   "cell_type": "code",
   "execution_count": 28,
   "metadata": {},
   "outputs": [],
   "source": [
    "model.compile(\n",
    "    optimizer = tf.keras.optimizers.Adam(), #adam(learning_rate=1e-4)\n",
    "    loss = tf.keras.losses.categorical_crossentropy,\n",
    "    metrics = ['accuracy']\n",
    ")"
   ]
  },
  {
   "cell_type": "code",
   "execution_count": 29,
   "metadata": {},
   "outputs": [
    {
     "name": "stdout",
     "output_type": "stream",
     "text": [
      "Epoch 1/25\n",
      "5/5 - 1s - loss: 2.2437 - accuracy: 0.1819 - val_loss: 2.1376 - val_accuracy: 0.3083 - 914ms/epoch - 183ms/step\n",
      "Epoch 2/25\n",
      "5/5 - 0s - loss: 2.0727 - accuracy: 0.3575 - val_loss: 1.9608 - val_accuracy: 0.4270 - 376ms/epoch - 75ms/step\n",
      "Epoch 3/25\n",
      "5/5 - 0s - loss: 1.8849 - accuracy: 0.4815 - val_loss: 1.7520 - val_accuracy: 0.5738 - 376ms/epoch - 75ms/step\n",
      "Epoch 4/25\n",
      "5/5 - 0s - loss: 1.6694 - accuracy: 0.6077 - val_loss: 1.5297 - val_accuracy: 0.6490 - 433ms/epoch - 87ms/step\n",
      "Epoch 5/25\n",
      "5/5 - 0s - loss: 1.4491 - accuracy: 0.6636 - val_loss: 1.3066 - val_accuracy: 0.6893 - 419ms/epoch - 84ms/step\n",
      "Epoch 6/25\n",
      "5/5 - 0s - loss: 1.2339 - accuracy: 0.7058 - val_loss: 1.0981 - val_accuracy: 0.7418 - 405ms/epoch - 81ms/step\n",
      "Epoch 7/25\n",
      "5/5 - 0s - loss: 1.0408 - accuracy: 0.7545 - val_loss: 0.9210 - val_accuracy: 0.7876 - 405ms/epoch - 81ms/step\n",
      "Epoch 8/25\n",
      "5/5 - 0s - loss: 0.8786 - accuracy: 0.7926 - val_loss: 0.7760 - val_accuracy: 0.8183 - 369ms/epoch - 74ms/step\n",
      "Epoch 9/25\n",
      "5/5 - 0s - loss: 0.7499 - accuracy: 0.8159 - val_loss: 0.6662 - val_accuracy: 0.8362 - 368ms/epoch - 74ms/step\n",
      "Epoch 10/25\n",
      "5/5 - 0s - loss: 0.6538 - accuracy: 0.8340 - val_loss: 0.5868 - val_accuracy: 0.8501 - 373ms/epoch - 75ms/step\n",
      "Epoch 11/25\n",
      "5/5 - 0s - loss: 0.5827 - accuracy: 0.8477 - val_loss: 0.5282 - val_accuracy: 0.8592 - 372ms/epoch - 74ms/step\n",
      "Epoch 12/25\n",
      "5/5 - 0s - loss: 0.5288 - accuracy: 0.8589 - val_loss: 0.4835 - val_accuracy: 0.8705 - 387ms/epoch - 77ms/step\n",
      "Epoch 13/25\n",
      "5/5 - 0s - loss: 0.4871 - accuracy: 0.8684 - val_loss: 0.4486 - val_accuracy: 0.8786 - 390ms/epoch - 78ms/step\n",
      "Epoch 14/25\n",
      "5/5 - 0s - loss: 0.4541 - accuracy: 0.8763 - val_loss: 0.4208 - val_accuracy: 0.8840 - 428ms/epoch - 86ms/step\n",
      "Epoch 15/25\n",
      "5/5 - 0s - loss: 0.4273 - accuracy: 0.8824 - val_loss: 0.3984 - val_accuracy: 0.8897 - 379ms/epoch - 76ms/step\n",
      "Epoch 16/25\n",
      "5/5 - 0s - loss: 0.4054 - accuracy: 0.8887 - val_loss: 0.3799 - val_accuracy: 0.8950 - 449ms/epoch - 90ms/step\n",
      "Epoch 17/25\n",
      "5/5 - 0s - loss: 0.3870 - accuracy: 0.8926 - val_loss: 0.3647 - val_accuracy: 0.8989 - 363ms/epoch - 73ms/step\n",
      "Epoch 18/25\n",
      "5/5 - 0s - loss: 0.3716 - accuracy: 0.8975 - val_loss: 0.3515 - val_accuracy: 0.9031 - 424ms/epoch - 85ms/step\n",
      "Epoch 19/25\n",
      "5/5 - 0s - loss: 0.3582 - accuracy: 0.9007 - val_loss: 0.3397 - val_accuracy: 0.9061 - 356ms/epoch - 71ms/step\n",
      "Epoch 20/25\n",
      "5/5 - 0s - loss: 0.3465 - accuracy: 0.9041 - val_loss: 0.3301 - val_accuracy: 0.9081 - 359ms/epoch - 72ms/step\n",
      "Epoch 21/25\n",
      "5/5 - 0s - loss: 0.3362 - accuracy: 0.9068 - val_loss: 0.3211 - val_accuracy: 0.9102 - 376ms/epoch - 75ms/step\n",
      "Epoch 22/25\n",
      "5/5 - 0s - loss: 0.3270 - accuracy: 0.9089 - val_loss: 0.3131 - val_accuracy: 0.9126 - 377ms/epoch - 75ms/step\n",
      "Epoch 23/25\n",
      "5/5 - 0s - loss: 0.3187 - accuracy: 0.9118 - val_loss: 0.3057 - val_accuracy: 0.9146 - 295ms/epoch - 59ms/step\n",
      "Epoch 24/25\n",
      "5/5 - 0s - loss: 0.3111 - accuracy: 0.9134 - val_loss: 0.2995 - val_accuracy: 0.9154 - 297ms/epoch - 59ms/step\n",
      "Epoch 25/25\n",
      "5/5 - 0s - loss: 0.3040 - accuracy: 0.9150 - val_loss: 0.2932 - val_accuracy: 0.9174 - 298ms/epoch - 60ms/step\n"
     ]
    }
   ],
   "source": [
    "# training\n",
    "history = model.fit(\n",
    "    x_train, y_train,\n",
    "    epochs = 25, \n",
    "    steps_per_epoch = 5,\n",
    "    verbose = 2 ,#tanpa animasi\n",
    "    validation_data=(x_test, y_test)\n",
    ")"
   ]
  },
  {
   "cell_type": "code",
   "execution_count": 30,
   "metadata": {},
   "outputs": [
    {
     "data": {
      "image/png": "[encoded data removed]",
      "text/plain": [
       "<Figure size 640x480 with 1 Axes>"
      ]
     },
     "metadata": {},
     "output_type": "display_data"
    }
   ],
   "source": [
    "nilai_x = range(len(history.history['accuracy']))\n",
    "plt.plot(nilai_x, history.history['accuracy'], label='Training')\n",
    "plt.plot(nilai_x, history.history['val_accuracy'], label='Validation')\n",
    "plt.legend()\n",
    "plt.show()"
   ]
  },
  {
   "cell_type": "code",
   "execution_count": 31,
   "metadata": {},
   "outputs": [],
   "source": [
    "model.save('model/model.h5')"
   ]
  },
  {
   "cell_type": "code",
   "execution_count": 33,
   "metadata": {},
   "outputs": [
    {
     "name": "stdout",
     "output_type": "stream",
     "text": [
      "Model: \"sequential_4\"\n",
      "_________________________________________________________________\n",
      " Layer (type)                Output Shape              Param #   \n",
      "=================================================================\n",
      " dense_12 (Dense)            (None, 32)                25120     \n",
      "                                                                 \n",
      " dense_13 (Dense)            (None, 32)                1056      \n",
      "                                                                 \n",
      " dense_14 (Dense)            (None, 10)                330       \n",
      "                                                                 \n",
      "=================================================================\n",
      "Total params: 26,506\n",
      "Trainable params: 26,506\n",
      "Non-trainable params: 0\n",
      "_________________________________________________________________\n"
     ]
    }
   ],
   "source": [
    "model_saved = tf.keras.models.load_model('model\\model.h5')\n",
    "model_saved.summary()"
   ]
  },
  {
   "cell_type": "code",
   "execution_count": 35,
   "metadata": {},
   "outputs": [
    {
     "name": "stdout",
     "output_type": "stream",
     "text": [
      "323/323 [==============================] - 0s 730us/step - loss: 0.2932 - accuracy: 0.9174\n"
     ]
    },
    {
     "data": {
      "text/plain": [
       "[0.2931561768054962, 0.9174000024795532]"
      ]
     },
     "execution_count": 35,
     "metadata": {},
     "output_type": "execute_result"
    }
   ],
   "source": [
    "model_saved.evaluate(x_test, y_test,batch_size=31)"
   ]
  },
  {
   "cell_type": "code",
   "execution_count": 50,
   "metadata": {},
   "outputs": [
    {
     "name": "stdout",
     "output_type": "stream",
     "text": [
      "313/313 [==============================] - 0s 662us/step\n"
     ]
    }
   ],
   "source": [
    "hasil = model_saved.predict(x_test)"
   ]
  },
  {
   "cell_type": "code",
   "execution_count": 51,
   "metadata": {},
   "outputs": [
    {
     "data": {
      "text/plain": [
       "array([[3.4294059e-04, 6.8487464e-07, 3.0026076e-04, ..., 9.9644119e-01,\n",
       "        5.3144588e-05, 1.7238375e-03],\n",
       "       [4.6211956e-03, 2.9021161e-05, 9.1853380e-01, ..., 1.6321181e-05,\n",
       "        2.3951926e-03, 6.6647175e-07],\n",
       "       [7.1827532e-04, 9.4996673e-01, 9.2138750e-03, ..., 7.1027423e-03,\n",
       "        1.7392669e-02, 2.5505004e-03],\n",
       "       ...,\n",
       "       [7.6052884e-06, 3.3458975e-06, 1.3885637e-04, ..., 7.1724365e-04,\n",
       "        7.9350304e-03, 4.8033983e-02],\n",
       "       [1.7787218e-03, 1.5988418e-04, 9.7043579e-05, ..., 8.3619907e-06,\n",
       "        1.9823538e-01, 2.2637862e-04],\n",
       "       [3.8400041e-05, 5.3754170e-09, 2.8142458e-04, ..., 7.5503408e-08,\n",
       "        7.7481928e-07, 4.0851802e-07]], dtype=float32)"
      ]
     },
     "execution_count": 51,
     "metadata": {},
     "output_type": "execute_result"
    }
   ],
   "source": [
    "hasil"
   ]
  },
  {
   "cell_type": "code",
   "execution_count": 52,
   "metadata": {},
   "outputs": [
    {
     "data": {
      "text/plain": [
       "TensorShape([60000, 784])"
      ]
     },
     "execution_count": 52,
     "metadata": {},
     "output_type": "execute_result"
    }
   ],
   "source": [
    "x_train.shape"
   ]
  },
  {
   "cell_type": "code",
   "execution_count": 46,
   "metadata": {},
   "outputs": [
    {
     "data": {
      "text/plain": [
       "array([0, 1, 2, 3, 4, 5, 6, 7, 8, 9], dtype=uint8)"
      ]
     },
     "execution_count": 46,
     "metadata": {},
     "output_type": "execute_result"
    }
   ],
   "source": [
    "np.unique(y_train_raw)"
   ]
  },
  {
   "cell_type": "code",
   "execution_count": 40,
   "metadata": {},
   "outputs": [
    {
     "data": {
      "text/plain": [
       "(60000, 10)"
      ]
     },
     "execution_count": 40,
     "metadata": {},
     "output_type": "execute_result"
    }
   ],
   "source": [
    "hasil.shape"
   ]
  },
  {
   "cell_type": "code",
   "execution_count": 45,
   "metadata": {},
   "outputs": [
    {
     "data": {
      "text/plain": [
       "4"
      ]
     },
     "execution_count": 45,
     "metadata": {},
     "output_type": "execute_result"
    }
   ],
   "source": [
    "tf.argmax(hasil[2]).numpy()"
   ]
  },
  {
   "cell_type": "code",
   "execution_count": 54,
   "metadata": {},
   "outputs": [
    {
     "data": {
      "text/plain": [
       "array([1.0998878e-03, 3.1733795e-03, 3.0571720e-02, 1.1886947e-03,\n",
       "       2.8993869e-01, 7.3491974e-05, 6.5604937e-01, 7.5021209e-03,\n",
       "       8.8598179e-03, 1.5428574e-03], dtype=float32)"
      ]
     },
     "execution_count": 54,
     "metadata": {},
     "output_type": "execute_result"
    }
   ],
   "source": [
    "hasil[22]"
   ]
  },
  {
   "cell_type": "code",
   "execution_count": 53,
   "metadata": {},
   "outputs": [
    {
     "data": {
      "text/plain": [
       "<matplotlib.image.AxesImage at 0x24900fb6830>"
      ]
     },
     "execution_count": 53,
     "metadata": {},
     "output_type": "execute_result"
    },
    {
     "data": {
      "image/png": "[encoded data removed]",
      "text/plain": [
       "<Figure size 640x480 with 1 Axes>"
      ]
     },
     "metadata": {},
     "output_type": "display_data"
    }
   ],
   "source": [
    "plt.imshow(x_test_raw[22])"
   ]
  },
  {
   "cell_type": "code",
   "execution_count": null,
   "metadata": {},
   "outputs": [],
   "source": []
  }
 ],
 "metadata": {
  "kernelspec": {
   "display_name": "Python 3.10.7 64-bit",
   "language": "python",
   "name": "python3"
  },
  "language_info": {
   "codemirror_mode": {
    "name": "ipython",
    "version": 3
   },
   "file_extension": ".py",
   "mimetype": "text/x-python",
   "name": "python",
   "nbconvert_exporter": "python",
   "pygments_lexer": "ipython3",
   "version": "3.10.7"
  },
  "orig_nbformat": 4,
  "vscode": {
   "interpreter": {
    "hash": "0688a561721c1d45ed17f12f7ca1d463e3643a56cc5dac145b94456e634fc76d"
   }
  }
 },
 "nbformat": 4,
 "nbformat_minor": 2
}
