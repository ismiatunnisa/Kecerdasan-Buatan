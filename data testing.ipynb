{
 "cells": [
  {
   "cell_type": "markdown",
   "id": "f1f413a3",
   "metadata": {},
   "source": [
    "# Data Testing"
   ]
  },
  {
   "cell_type": "code",
   "execution_count": 1,
   "id": "b866027c",
   "metadata": {},
   "outputs": [],
   "source": [
    "import pandas as pd\n",
    "import numpy as np\n",
    "from sklearn.model_selection import train_test_split\n"
   ]
  },
  {
   "cell_type": "code",
   "execution_count": 2,
   "id": "2888b8a9",
   "metadata": {},
   "outputs": [
    {
     "data": {
      "text/html": [
       "<div>\n",
       "<style scoped>\n",
       "    .dataframe tbody tr th:only-of-type {\n",
       "        vertical-align: middle;\n",
       "    }\n",
       "\n",
       "    .dataframe tbody tr th {\n",
       "        vertical-align: top;\n",
       "    }\n",
       "\n",
       "    .dataframe thead th {\n",
       "        text-align: right;\n",
       "    }\n",
       "</style>\n",
       "<table border=\"1\" class=\"dataframe\">\n",
       "  <thead>\n",
       "    <tr style=\"text-align: right;\">\n",
       "      <th></th>\n",
       "      <th>sepal_length</th>\n",
       "      <th>sepal_width</th>\n",
       "      <th>petal_length</th>\n",
       "      <th>petal_width</th>\n",
       "      <th>species</th>\n",
       "    </tr>\n",
       "  </thead>\n",
       "  <tbody>\n",
       "    <tr>\n",
       "      <th>0</th>\n",
       "      <td>5.1</td>\n",
       "      <td>3.5</td>\n",
       "      <td>1.4</td>\n",
       "      <td>0.2</td>\n",
       "      <td>setosa</td>\n",
       "    </tr>\n",
       "    <tr>\n",
       "      <th>1</th>\n",
       "      <td>4.9</td>\n",
       "      <td>3.0</td>\n",
       "      <td>1.4</td>\n",
       "      <td>0.2</td>\n",
       "      <td>setosa</td>\n",
       "    </tr>\n",
       "    <tr>\n",
       "      <th>2</th>\n",
       "      <td>4.7</td>\n",
       "      <td>3.2</td>\n",
       "      <td>1.3</td>\n",
       "      <td>0.2</td>\n",
       "      <td>setosa</td>\n",
       "    </tr>\n",
       "    <tr>\n",
       "      <th>3</th>\n",
       "      <td>4.6</td>\n",
       "      <td>3.1</td>\n",
       "      <td>1.5</td>\n",
       "      <td>0.2</td>\n",
       "      <td>setosa</td>\n",
       "    </tr>\n",
       "    <tr>\n",
       "      <th>4</th>\n",
       "      <td>5.0</td>\n",
       "      <td>3.6</td>\n",
       "      <td>1.4</td>\n",
       "      <td>0.2</td>\n",
       "      <td>setosa</td>\n",
       "    </tr>\n",
       "  </tbody>\n",
       "</table>\n",
       "</div>"
      ],
      "text/plain": [
       "   sepal_length  sepal_width  petal_length  petal_width species\n",
       "0           5.1          3.5           1.4          0.2  setosa\n",
       "1           4.9          3.0           1.4          0.2  setosa\n",
       "2           4.7          3.2           1.3          0.2  setosa\n",
       "3           4.6          3.1           1.5          0.2  setosa\n",
       "4           5.0          3.6           1.4          0.2  setosa"
      ]
     },
     "execution_count": 2,
     "metadata": {},
     "output_type": "execute_result"
    }
   ],
   "source": [
    "dataset_iris = pd.read_csv('https://raw.githubusercontent.com/mwaskom/seaborn-data/master/iris.csv')\n",
    "dataset_iris.head(5)"
   ]
  },
  {
   "cell_type": "code",
   "execution_count": 3,
   "id": "9351ecc9",
   "metadata": {},
   "outputs": [
    {
     "name": "stdout",
     "output_type": "stream",
     "text": [
      "panjang dataset150baris\n"
     ]
    }
   ],
   "source": [
    "#panjang dataset\n",
    "print(f'panjang dataset{len(dataset_iris)}baris')"
   ]
  },
  {
   "cell_type": "code",
   "execution_count": 5,
   "id": "3bfbeabc",
   "metadata": {},
   "outputs": [],
   "source": [
    "#cara manual\n",
    "data_train =dataset_iris[['sepal_length', 'sepal_width','petal_length','petal_width']][:100]\n",
    "label_train =dataset_iris['species'][:100]\n",
    "\n",
    "data_test=dataset_iris[['sepal_length', 'sepal_width','petal_length','petal_width']][-50:]\n",
    "label_test=dataset_iris['species'][-50:]"
   ]
  },
  {
   "cell_type": "code",
   "execution_count": 9,
   "id": "96a6145d",
   "metadata": {},
   "outputs": [
    {
     "name": "stdout",
     "output_type": "stream",
     "text": [
      "panjang data training 100\n",
      "panjang label training 100\n",
      "panjang data testing 50\n",
      "panjang label testing 50\n"
     ]
    }
   ],
   "source": [
    "print(f'panjang data training {len(data_train)}',\n",
    "     f'panjang label training {len(label_train)}',\n",
    "     f'panjang data testing {len(data_test)}',\n",
    "     f'panjang label testing {len(label_test)}',\n",
    "     sep='\\n')"
   ]
  },
  {
   "cell_type": "raw",
   "id": "b20a8e70",
   "metadata": {},
   "source": [
    "#otomatis\n",
    "\n",
    "data = dataset_iris[['sepal_length', 'sepal_width','petal_length','petal_width']]\n",
    "label = dataset_iris['species']\n",
    "\n",
    "data_train, data_test, label_train, label_test = train_test_split(data, label, test_size=.2)"
   ]
  },
  {
   "cell_type": "code",
   "execution_count": 8,
   "id": "3add5bf5",
   "metadata": {},
   "outputs": [
    {
     "name": "stdout",
     "output_type": "stream",
     "text": [
      "panjang data training 100\n",
      "panjang label training 100\n",
      "panjang data testing 50\n",
      "panjang label testing 50\n"
     ]
    }
   ],
   "source": [
    "print(f'panjang data training {len(data_train)}',\n",
    "     f'panjang label training {len(label_train)}',\n",
    "     f'panjang data testing {len(data_test)}',\n",
    "     f'panjang label testing {len(label_test)}',\n",
    "     sep='\\n')"
   ]
  },
  {
   "cell_type": "markdown",
   "id": "10725cc1",
   "metadata": {},
   "source": [
    "# Data Transformasi"
   ]
  },
  {
   "cell_type": "code",
   "execution_count": 11,
   "id": "f0672903",
   "metadata": {},
   "outputs": [],
   "source": [
    "from sklearn.preprocessing import StandardScaler #standarisasi\n",
    "from sklearn.preprocessing import MinMaxScaler #normalisasi\n",
    "#visualisasi uji\n",
    "import matplotlib.pyplot as plt\n",
    "import seaborn as sns"
   ]
  },
  {
   "cell_type": "code",
   "execution_count": 29,
   "id": "cb4d2da9",
   "metadata": {},
   "outputs": [],
   "source": [
    "dataset_transformasi = dataset_iris.copy()"
   ]
  },
  {
   "cell_type": "code",
   "execution_count": 25,
   "id": "84cb58f9",
   "metadata": {},
   "outputs": [
    {
     "data": {
      "text/html": [
       "<div>\n",
       "<style scoped>\n",
       "    .dataframe tbody tr th:only-of-type {\n",
       "        vertical-align: middle;\n",
       "    }\n",
       "\n",
       "    .dataframe tbody tr th {\n",
       "        vertical-align: top;\n",
       "    }\n",
       "\n",
       "    .dataframe thead th {\n",
       "        text-align: right;\n",
       "    }\n",
       "</style>\n",
       "<table border=\"1\" class=\"dataframe\">\n",
       "  <thead>\n",
       "    <tr style=\"text-align: right;\">\n",
       "      <th></th>\n",
       "      <th>sepal_length</th>\n",
       "      <th>sepal_width</th>\n",
       "      <th>2</th>\n",
       "      <th>petal_length</th>\n",
       "    </tr>\n",
       "  </thead>\n",
       "  <tbody>\n",
       "    <tr>\n",
       "      <th>0</th>\n",
       "      <td>0.222222</td>\n",
       "      <td>0.625000</td>\n",
       "      <td>0.067797</td>\n",
       "      <td>0.041667</td>\n",
       "    </tr>\n",
       "    <tr>\n",
       "      <th>1</th>\n",
       "      <td>0.166667</td>\n",
       "      <td>0.416667</td>\n",
       "      <td>0.067797</td>\n",
       "      <td>0.041667</td>\n",
       "    </tr>\n",
       "    <tr>\n",
       "      <th>2</th>\n",
       "      <td>0.111111</td>\n",
       "      <td>0.500000</td>\n",
       "      <td>0.050847</td>\n",
       "      <td>0.041667</td>\n",
       "    </tr>\n",
       "    <tr>\n",
       "      <th>3</th>\n",
       "      <td>0.083333</td>\n",
       "      <td>0.458333</td>\n",
       "      <td>0.084746</td>\n",
       "      <td>0.041667</td>\n",
       "    </tr>\n",
       "    <tr>\n",
       "      <th>4</th>\n",
       "      <td>0.194444</td>\n",
       "      <td>0.666667</td>\n",
       "      <td>0.067797</td>\n",
       "      <td>0.041667</td>\n",
       "    </tr>\n",
       "  </tbody>\n",
       "</table>\n",
       "</div>"
      ],
      "text/plain": [
       "   sepal_length  sepal_width         2  petal_length\n",
       "0      0.222222     0.625000  0.067797      0.041667\n",
       "1      0.166667     0.416667  0.067797      0.041667\n",
       "2      0.111111     0.500000  0.050847      0.041667\n",
       "3      0.083333     0.458333  0.084746      0.041667\n",
       "4      0.194444     0.666667  0.067797      0.041667"
      ]
     },
     "execution_count": 25,
     "metadata": {},
     "output_type": "execute_result"
    }
   ],
   "source": [
    "# normalisasi\n",
    "\n",
    "#bikin alatnya\n",
    "scaler = MinMaxScaler()\n",
    "\n",
    "#gunakan alat\n",
    "normalize_dataset = scaler.fit_transform(dataset_transformasi[['sepal_length', 'sepal_width','petal_length','petal_width']])\n",
    "\n",
    "normalize_dataset = pd.DataFrame(normalize_dataset)\n",
    "normalize_dataset.rename(columns={0:'sepal_length',1: 'sepal_width',3:'petal_length',4:'petal_width'},\n",
    "                        inplace=True)\n",
    "normalize_dataset.head(5)"
   ]
  },
  {
   "cell_type": "code",
   "execution_count": 30,
   "id": "82223fc7",
   "metadata": {},
   "outputs": [],
   "source": [
    "#standarisasi\n",
    "\n",
    "#bikin dataset\n",
    "dataset_transformasi.drop('species', axis=1, inplace=True)\n",
    "\n",
    "#bikin alat\n",
    "standart_std = StandardScaler()\n",
    "\n",
    "#standarisasikan\n",
    "scaler_dataset = standart_std.fit_transform(dataset_transformasi)"
   ]
  },
  {
   "cell_type": "markdown",
   "id": "52f5c88f",
   "metadata": {},
   "source": [
    "# Data Cleaning"
   ]
  },
  {
   "cell_type": "code",
   "execution_count": 31,
   "id": "08f561ab",
   "metadata": {},
   "outputs": [
    {
     "data": {
      "text/html": [
       "<div>\n",
       "<style scoped>\n",
       "    .dataframe tbody tr th:only-of-type {\n",
       "        vertical-align: middle;\n",
       "    }\n",
       "\n",
       "    .dataframe tbody tr th {\n",
       "        vertical-align: top;\n",
       "    }\n",
       "\n",
       "    .dataframe thead th {\n",
       "        text-align: right;\n",
       "    }\n",
       "</style>\n",
       "<table border=\"1\" class=\"dataframe\">\n",
       "  <thead>\n",
       "    <tr style=\"text-align: right;\">\n",
       "      <th></th>\n",
       "      <th>UniqueID</th>\n",
       "      <th>ParcelID</th>\n",
       "      <th>LandUse</th>\n",
       "      <th>SalePrice</th>\n",
       "      <th>LegalReference</th>\n",
       "      <th>SoldAsVacant</th>\n",
       "      <th>OwnerName</th>\n",
       "      <th>Acreage</th>\n",
       "      <th>LandValue</th>\n",
       "      <th>BuildingValue</th>\n",
       "      <th>...</th>\n",
       "      <th>YearBuilt</th>\n",
       "      <th>Bedrooms</th>\n",
       "      <th>FullBath</th>\n",
       "      <th>HalfBath</th>\n",
       "      <th>SALEDATECONVERTED</th>\n",
       "      <th>PropertySplitAddress</th>\n",
       "      <th>PropertySplitCity</th>\n",
       "      <th>OwnerSplitAddress</th>\n",
       "      <th>OwnerSplitCity</th>\n",
       "      <th>OwnerSplitState</th>\n",
       "    </tr>\n",
       "  </thead>\n",
       "  <tbody>\n",
       "    <tr>\n",
       "      <th>0</th>\n",
       "      <td>2045</td>\n",
       "      <td>007 00 0 125.00</td>\n",
       "      <td>SINGLE FAMILY</td>\n",
       "      <td>240000</td>\n",
       "      <td>20130412-0036474</td>\n",
       "      <td>No</td>\n",
       "      <td>FRAZIER, CYRENTHA LYNETTE</td>\n",
       "      <td>2.3</td>\n",
       "      <td>50000.0</td>\n",
       "      <td>168200.0</td>\n",
       "      <td>...</td>\n",
       "      <td>1986.0</td>\n",
       "      <td>3.0</td>\n",
       "      <td>3.0</td>\n",
       "      <td>0.0</td>\n",
       "      <td>4/9/2013</td>\n",
       "      <td>1808  FOX CHASE DR</td>\n",
       "      <td>GOODLETTSVILLE</td>\n",
       "      <td>1808  FOX CHASE DR</td>\n",
       "      <td>GOODLETTSVILLE</td>\n",
       "      <td>TN</td>\n",
       "    </tr>\n",
       "    <tr>\n",
       "      <th>1</th>\n",
       "      <td>16918</td>\n",
       "      <td>007 00 0 130.00</td>\n",
       "      <td>SINGLE FAMILY</td>\n",
       "      <td>366000</td>\n",
       "      <td>20140619-0053768</td>\n",
       "      <td>No</td>\n",
       "      <td>BONER, CHARLES &amp; LESLIE</td>\n",
       "      <td>3.5</td>\n",
       "      <td>50000.0</td>\n",
       "      <td>264100.0</td>\n",
       "      <td>...</td>\n",
       "      <td>1998.0</td>\n",
       "      <td>3.0</td>\n",
       "      <td>3.0</td>\n",
       "      <td>2.0</td>\n",
       "      <td>6/10/2014</td>\n",
       "      <td>1832  FOX CHASE DR</td>\n",
       "      <td>GOODLETTSVILLE</td>\n",
       "      <td>1832  FOX CHASE DR</td>\n",
       "      <td>GOODLETTSVILLE</td>\n",
       "      <td>TN</td>\n",
       "    </tr>\n",
       "    <tr>\n",
       "      <th>2</th>\n",
       "      <td>54582</td>\n",
       "      <td>007 00 0 138.00</td>\n",
       "      <td>SINGLE FAMILY</td>\n",
       "      <td>435000</td>\n",
       "      <td>20160927-0101718</td>\n",
       "      <td>No</td>\n",
       "      <td>WILSON, JAMES E. &amp; JOANNE</td>\n",
       "      <td>2.9</td>\n",
       "      <td>50000.0</td>\n",
       "      <td>216200.0</td>\n",
       "      <td>...</td>\n",
       "      <td>1987.0</td>\n",
       "      <td>4.0</td>\n",
       "      <td>3.0</td>\n",
       "      <td>0.0</td>\n",
       "      <td>9/26/2016</td>\n",
       "      <td>1864 FOX CHASE  DR</td>\n",
       "      <td>GOODLETTSVILLE</td>\n",
       "      <td>1864  FOX CHASE DR</td>\n",
       "      <td>GOODLETTSVILLE</td>\n",
       "      <td>TN</td>\n",
       "    </tr>\n",
       "    <tr>\n",
       "      <th>3</th>\n",
       "      <td>43070</td>\n",
       "      <td>007 00 0 143.00</td>\n",
       "      <td>SINGLE FAMILY</td>\n",
       "      <td>255000</td>\n",
       "      <td>20160129-0008913</td>\n",
       "      <td>No</td>\n",
       "      <td>BAKER, JAY K. &amp; SUSAN E.</td>\n",
       "      <td>2.6</td>\n",
       "      <td>50000.0</td>\n",
       "      <td>147300.0</td>\n",
       "      <td>...</td>\n",
       "      <td>1985.0</td>\n",
       "      <td>3.0</td>\n",
       "      <td>3.0</td>\n",
       "      <td>0.0</td>\n",
       "      <td>1/29/2016</td>\n",
       "      <td>1853  FOX CHASE DR</td>\n",
       "      <td>GOODLETTSVILLE</td>\n",
       "      <td>1853  FOX CHASE DR</td>\n",
       "      <td>GOODLETTSVILLE</td>\n",
       "      <td>TN</td>\n",
       "    </tr>\n",
       "    <tr>\n",
       "      <th>4</th>\n",
       "      <td>22714</td>\n",
       "      <td>007 00 0 149.00</td>\n",
       "      <td>SINGLE FAMILY</td>\n",
       "      <td>278000</td>\n",
       "      <td>20141015-0095255</td>\n",
       "      <td>No</td>\n",
       "      <td>POST, CHRISTOPHER M. &amp; SAMANTHA C.</td>\n",
       "      <td>2.0</td>\n",
       "      <td>50000.0</td>\n",
       "      <td>152300.0</td>\n",
       "      <td>...</td>\n",
       "      <td>1984.0</td>\n",
       "      <td>4.0</td>\n",
       "      <td>3.0</td>\n",
       "      <td>0.0</td>\n",
       "      <td>10/10/2014</td>\n",
       "      <td>1829  FOX CHASE DR</td>\n",
       "      <td>GOODLETTSVILLE</td>\n",
       "      <td>1829  FOX CHASE DR</td>\n",
       "      <td>GOODLETTSVILLE</td>\n",
       "      <td>TN</td>\n",
       "    </tr>\n",
       "  </tbody>\n",
       "</table>\n",
       "<p>5 rows × 21 columns</p>\n",
       "</div>"
      ],
      "text/plain": [
       "   UniqueID          ParcelID        LandUse  SalePrice    LegalReference  \\\n",
       "0       2045  007 00 0 125.00  SINGLE FAMILY     240000  20130412-0036474   \n",
       "1      16918  007 00 0 130.00  SINGLE FAMILY     366000  20140619-0053768   \n",
       "2      54582  007 00 0 138.00  SINGLE FAMILY     435000  20160927-0101718   \n",
       "3      43070  007 00 0 143.00  SINGLE FAMILY     255000  20160129-0008913   \n",
       "4      22714  007 00 0 149.00  SINGLE FAMILY     278000  20141015-0095255   \n",
       "\n",
       "  SoldAsVacant                           OwnerName  Acreage  LandValue  \\\n",
       "0           No           FRAZIER, CYRENTHA LYNETTE      2.3    50000.0   \n",
       "1           No             BONER, CHARLES & LESLIE      3.5    50000.0   \n",
       "2           No           WILSON, JAMES E. & JOANNE      2.9    50000.0   \n",
       "3           No            BAKER, JAY K. & SUSAN E.      2.6    50000.0   \n",
       "4           No  POST, CHRISTOPHER M. & SAMANTHA C.      2.0    50000.0   \n",
       "\n",
       "   BuildingValue  ...  YearBuilt  Bedrooms  FullBath  HalfBath  \\\n",
       "0       168200.0  ...     1986.0       3.0       3.0       0.0   \n",
       "1       264100.0  ...     1998.0       3.0       3.0       2.0   \n",
       "2       216200.0  ...     1987.0       4.0       3.0       0.0   \n",
       "3       147300.0  ...     1985.0       3.0       3.0       0.0   \n",
       "4       152300.0  ...     1984.0       4.0       3.0       0.0   \n",
       "\n",
       "   SALEDATECONVERTED PropertySplitAddress PropertySplitCity  \\\n",
       "0           4/9/2013   1808  FOX CHASE DR    GOODLETTSVILLE   \n",
       "1          6/10/2014   1832  FOX CHASE DR    GOODLETTSVILLE   \n",
       "2          9/26/2016   1864 FOX CHASE  DR    GOODLETTSVILLE   \n",
       "3          1/29/2016   1853  FOX CHASE DR    GOODLETTSVILLE   \n",
       "4         10/10/2014   1829  FOX CHASE DR    GOODLETTSVILLE   \n",
       "\n",
       "    OwnerSplitAddress   OwnerSplitCity OwnerSplitState  \n",
       "0  1808  FOX CHASE DR   GOODLETTSVILLE              TN  \n",
       "1  1832  FOX CHASE DR   GOODLETTSVILLE              TN  \n",
       "2  1864  FOX CHASE DR   GOODLETTSVILLE              TN  \n",
       "3  1853  FOX CHASE DR   GOODLETTSVILLE              TN  \n",
       "4  1829  FOX CHASE DR   GOODLETTSVILLE              TN  \n",
       "\n",
       "[5 rows x 21 columns]"
      ]
     },
     "execution_count": 31,
     "metadata": {},
     "output_type": "execute_result"
    }
   ],
   "source": [
    "data_ns = pd.read_csv('https://raw.githubusercontent.com/rrizwan43/Data-Cleanig-with-SQL/main/Cleaned_nashville_housing_dataset_.csv')\n",
    "data_ns.head(5)"
   ]
  },
  {
   "cell_type": "code",
   "execution_count": 32,
   "id": "5844b1f3",
   "metadata": {},
   "outputs": [
    {
     "name": "stdout",
     "output_type": "stream",
     "text": [
      "<class 'pandas.core.frame.DataFrame'>\n",
      "RangeIndex: 56373 entries, 0 to 56372\n",
      "Data columns (total 21 columns):\n",
      " #   Column                Non-Null Count  Dtype  \n",
      "---  ------                --------------  -----  \n",
      " 0   UniqueID              56373 non-null  int64  \n",
      " 1   ParcelID              56373 non-null  object \n",
      " 2   LandUse               56373 non-null  object \n",
      " 3   SalePrice             56373 non-null  int64  \n",
      " 4   LegalReference        56373 non-null  object \n",
      " 5   SoldAsVacant          56373 non-null  object \n",
      " 6   OwnerName             25215 non-null  object \n",
      " 7   Acreage               25969 non-null  float64\n",
      " 8   LandValue             25969 non-null  float64\n",
      " 9   BuildingValue         25969 non-null  float64\n",
      " 10  TotalValue            25969 non-null  float64\n",
      " 11  YearBuilt             24118 non-null  float64\n",
      " 12  Bedrooms              24112 non-null  float64\n",
      " 13  FullBath              24230 non-null  float64\n",
      " 14  HalfBath              24099 non-null  float64\n",
      " 15  SALEDATECONVERTED     56373 non-null  object \n",
      " 16  PropertySplitAddress  56373 non-null  object \n",
      " 17  PropertySplitCity     56373 non-null  object \n",
      " 18  OwnerSplitAddress     25969 non-null  object \n",
      " 19  OwnerSplitCity        25969 non-null  object \n",
      " 20  OwnerSplitState       25969 non-null  object \n",
      "dtypes: float64(8), int64(2), object(11)\n",
      "memory usage: 9.0+ MB\n"
     ]
    }
   ],
   "source": [
    "data_ns.info()"
   ]
  },
  {
   "cell_type": "code",
   "execution_count": 46,
   "id": "bb53e802",
   "metadata": {},
   "outputs": [
    {
     "data": {
      "text/plain": [
       "UniqueID                    0\n",
       "ParcelID                    0\n",
       "LandUse                     0\n",
       "SalePrice                   0\n",
       "LegalReference              0\n",
       "SoldAsVacant                0\n",
       "OwnerName               31158\n",
       "Acreage                 30404\n",
       "LandValue               30404\n",
       "BuildingValue           30404\n",
       "TotalValue              30404\n",
       "YearBuilt               32255\n",
       "Bedrooms                32261\n",
       "FullBath                32143\n",
       "HalfBath                32274\n",
       "SALEDATECONVERTED           0\n",
       "PropertySplitAddress        0\n",
       "PropertySplitCity           0\n",
       "OwnerSplitAddress       30404\n",
       "OwnerSplitCity          30404\n",
       "OwnerSplitState         30404\n",
       "dtype: int64"
      ]
     },
     "execution_count": 46,
     "metadata": {},
     "output_type": "execute_result"
    }
   ],
   "source": [
    "data_ns.isna().sum()"
   ]
  },
  {
   "cell_type": "code",
   "execution_count": 48,
   "id": "8f8b9795",
   "metadata": {},
   "outputs": [],
   "source": [
    "dataset_ns = data_ns.copy()"
   ]
  },
  {
   "cell_type": "code",
   "execution_count": 49,
   "id": "ff97e2b5",
   "metadata": {},
   "outputs": [],
   "source": [
    "from sklearn.impute import SimpleImputer"
   ]
  },
  {
   "cell_type": "code",
   "execution_count": 50,
   "id": "005ebcaf",
   "metadata": {},
   "outputs": [],
   "source": [
    "# null value\n",
    "\n",
    "# bikin alat\n",
    "imputer_mean = SimpleImputer(strategy='mean')#float\n",
    "imputer_median = SimpleImputer(strategy='median')\n",
    "imputer_modus = SimpleImputer(strategy='most_frequent')"
   ]
  },
  {
   "cell_type": "code",
   "execution_count": 51,
   "id": "51b2fa0c",
   "metadata": {},
   "outputs": [
    {
     "data": {
      "text/plain": [
       "UniqueID                    0\n",
       "ParcelID                    0\n",
       "LandUse                     0\n",
       "SalePrice                   0\n",
       "LegalReference              0\n",
       "SoldAsVacant                0\n",
       "OwnerName                   0\n",
       "Acreage                 30404\n",
       "LandValue               30404\n",
       "BuildingValue           30404\n",
       "TotalValue              30404\n",
       "YearBuilt               32255\n",
       "Bedrooms                32261\n",
       "FullBath                32143\n",
       "HalfBath                32274\n",
       "SALEDATECONVERTED           0\n",
       "PropertySplitAddress        0\n",
       "PropertySplitCity           0\n",
       "OwnerSplitAddress       30404\n",
       "OwnerSplitCity          30404\n",
       "OwnerSplitState         30404\n",
       "dtype: int64"
      ]
     },
     "execution_count": 51,
     "metadata": {},
     "output_type": "execute_result"
    }
   ],
   "source": [
    "#modus\n",
    "dataset_ns['OwnerName'] = imputer_modus.fit_transform(dataset_ns[['OwnerName']])\n",
    "\n",
    "dataset_ns.isna().sum()"
   ]
  },
  {
   "cell_type": "code",
   "execution_count": 52,
   "id": "134f248c",
   "metadata": {},
   "outputs": [
    {
     "data": {
      "text/plain": [
       "UniqueID                    0\n",
       "ParcelID                    0\n",
       "LandUse                     0\n",
       "SalePrice                   0\n",
       "LegalReference              0\n",
       "SoldAsVacant                0\n",
       "OwnerName                   0\n",
       "Acreage                     0\n",
       "LandValue                   0\n",
       "BuildingValue               0\n",
       "TotalValue                  0\n",
       "YearBuilt                   0\n",
       "Bedrooms                    0\n",
       "FullBath                    0\n",
       "HalfBath                    0\n",
       "SALEDATECONVERTED           0\n",
       "PropertySplitAddress        0\n",
       "PropertySplitCity           0\n",
       "OwnerSplitAddress       30404\n",
       "OwnerSplitCity          30404\n",
       "OwnerSplitState         30404\n",
       "dtype: int64"
      ]
     },
     "execution_count": 52,
     "metadata": {},
     "output_type": "execute_result"
    }
   ],
   "source": [
    "# #mean\n",
    "dataset_ns['Acreage'] = imputer_mean.fit_transform(dataset_ns[['Acreage']])\n",
    "dataset_ns['LandValue'] = imputer_mean.fit_transform(dataset_ns[['LandValue']])\n",
    "dataset_ns['BuildingValue'] = imputer_mean.fit_transform(dataset_ns[['BuildingValue']])\n",
    "dataset_ns['TotalValue'] = imputer_mean.fit_transform(dataset_ns[['TotalValue']])\n",
    "dataset_ns['YearBuilt'] = imputer_mean.fit_transform(dataset_ns[['YearBuilt']])\n",
    "dataset_ns['Bedrooms'] = imputer_mean.fit_transform(dataset_ns[['Bedrooms']])\n",
    "dataset_ns['FullBath'] = imputer_mean.fit_transform(dataset_ns[['FullBath']])\n",
    "dataset_ns['HalfBath'] = imputer_mean.fit_transform(dataset_ns[['HalfBath']])\n",
    "\n",
    "dataset_ns.isna().sum()"
   ]
  },
  {
   "cell_type": "code",
   "execution_count": 53,
   "id": "ecae5e99",
   "metadata": {},
   "outputs": [
    {
     "data": {
      "text/plain": [
       "UniqueID                0\n",
       "ParcelID                0\n",
       "LandUse                 0\n",
       "SalePrice               0\n",
       "LegalReference          0\n",
       "SoldAsVacant            0\n",
       "OwnerName               0\n",
       "Acreage                 0\n",
       "LandValue               0\n",
       "BuildingValue           0\n",
       "TotalValue              0\n",
       "YearBuilt               0\n",
       "Bedrooms                0\n",
       "FullBath                0\n",
       "HalfBath                0\n",
       "SALEDATECONVERTED       0\n",
       "PropertySplitAddress    0\n",
       "PropertySplitCity       0\n",
       "OwnerSplitAddress       0\n",
       "OwnerSplitCity          0\n",
       "OwnerSplitState         0\n",
       "dtype: int64"
      ]
     },
     "execution_count": 53,
     "metadata": {},
     "output_type": "execute_result"
    }
   ],
   "source": [
    "dataset_ns.dropna(inplace=True)\n",
    "\n",
    "dataset_ns.isna().sum()"
   ]
  },
  {
   "cell_type": "code",
   "execution_count": 54,
   "id": "2c058555",
   "metadata": {},
   "outputs": [
    {
     "data": {
      "text/plain": [
       "25969"
      ]
     },
     "execution_count": 54,
     "metadata": {},
     "output_type": "execute_result"
    }
   ],
   "source": [
    "len(dataset_ns)"
   ]
  },
  {
   "cell_type": "code",
   "execution_count": 55,
   "id": "a3e515aa",
   "metadata": {},
   "outputs": [
    {
     "data": {
      "text/plain": [
       "0"
      ]
     },
     "execution_count": 55,
     "metadata": {},
     "output_type": "execute_result"
    }
   ],
   "source": [
    "#cek duplikat\n",
    "dataset_duplicate = data_ns.copy()\n",
    "\n",
    "dataset_duplicate.duplicated().sum()"
   ]
  },
  {
   "cell_type": "code",
   "execution_count": 56,
   "id": "1fecc8de",
   "metadata": {},
   "outputs": [
    {
     "data": {
      "text/plain": [
       "1"
      ]
     },
     "execution_count": 56,
     "metadata": {},
     "output_type": "execute_result"
    }
   ],
   "source": [
    "dataset_duplicate = dataset_iris.copy()\n",
    "\n",
    "dataset_duplicate.duplicated().sum()"
   ]
  },
  {
   "cell_type": "code",
   "execution_count": 57,
   "id": "3f2cc1be",
   "metadata": {},
   "outputs": [
    {
     "data": {
      "text/plain": [
       "0"
      ]
     },
     "execution_count": 57,
     "metadata": {},
     "output_type": "execute_result"
    }
   ],
   "source": [
    "dataset_duplicate.drop_duplicates(inplace=True)\n",
    "\n",
    "dataset_duplicate.duplicated().sum()"
   ]
  },
  {
   "cell_type": "code",
   "execution_count": 62,
   "id": "4be11d6d",
   "metadata": {},
   "outputs": [
    {
     "data": {
      "text/plain": [
       "sepal_length    float64\n",
       "sepal_width     float64\n",
       "petal_length    float64\n",
       "petal_width     float64\n",
       "species          object\n",
       "dtype: object"
      ]
     },
     "execution_count": 62,
     "metadata": {},
     "output_type": "execute_result"
    }
   ],
   "source": [
    "dataset_iris.dtypes"
   ]
  },
  {
   "cell_type": "code",
   "execution_count": 64,
   "id": "1d29141a",
   "metadata": {},
   "outputs": [
    {
     "data": {
      "text/plain": [
       "0    5.1\n",
       "1    4.9\n",
       "2    4.7\n",
       "3    4.6\n",
       "4    5.0\n",
       "Name: sepal_length, dtype: float64"
      ]
     },
     "execution_count": 64,
     "metadata": {},
     "output_type": "execute_result"
    }
   ],
   "source": [
    "dataset_iris['sepal_length'].head(5)"
   ]
  },
  {
   "cell_type": "code",
   "execution_count": 67,
   "id": "2f2d45be",
   "metadata": {},
   "outputs": [
    {
     "data": {
      "text/plain": [
       "dtype('int32')"
      ]
     },
     "execution_count": 67,
     "metadata": {},
     "output_type": "execute_result"
    }
   ],
   "source": [
    "dataset_iris['sepal_length'].astype('int32').dtypes"
   ]
  },
  {
   "cell_type": "code",
   "execution_count": 69,
   "id": "d5cdda85",
   "metadata": {},
   "outputs": [
    {
     "data": {
      "text/plain": [
       "0    5\n",
       "1    4\n",
       "2    4\n",
       "3    4\n",
       "4    5\n",
       "Name: sepal_length, dtype: int32"
      ]
     },
     "execution_count": 69,
     "metadata": {},
     "output_type": "execute_result"
    }
   ],
   "source": [
    "dataset_iris['sepal_length'].astype('int32').head(5)"
   ]
  },
  {
   "cell_type": "markdown",
   "id": "1c914579",
   "metadata": {},
   "source": [
    "# Encoding"
   ]
  },
  {
   "cell_type": "code",
   "execution_count": 70,
   "id": "c43d1838",
   "metadata": {},
   "outputs": [],
   "source": [
    "from sklearn.preprocessing import OrdinalEncoder\n",
    "from sklearn.preprocessing import OneHotEncoder"
   ]
  },
  {
   "cell_type": "code",
   "execution_count": 93,
   "id": "44ad418f",
   "metadata": {},
   "outputs": [],
   "source": [
    "dataset_ordinal = dataset_iris.copy()\n",
    "dataset_one_hot = dataset_iris.copy()"
   ]
  },
  {
   "cell_type": "code",
   "execution_count": 74,
   "id": "fa9311b2",
   "metadata": {},
   "outputs": [
    {
     "data": {
      "text/html": [
       "<div>\n",
       "<style scoped>\n",
       "    .dataframe tbody tr th:only-of-type {\n",
       "        vertical-align: middle;\n",
       "    }\n",
       "\n",
       "    .dataframe tbody tr th {\n",
       "        vertical-align: top;\n",
       "    }\n",
       "\n",
       "    .dataframe thead th {\n",
       "        text-align: right;\n",
       "    }\n",
       "</style>\n",
       "<table border=\"1\" class=\"dataframe\">\n",
       "  <thead>\n",
       "    <tr style=\"text-align: right;\">\n",
       "      <th></th>\n",
       "      <th>sepal_length</th>\n",
       "      <th>sepal_width</th>\n",
       "      <th>petal_length</th>\n",
       "      <th>petal_width</th>\n",
       "      <th>species</th>\n",
       "    </tr>\n",
       "  </thead>\n",
       "  <tbody>\n",
       "    <tr>\n",
       "      <th>0</th>\n",
       "      <td>5.1</td>\n",
       "      <td>3.5</td>\n",
       "      <td>1.4</td>\n",
       "      <td>0.2</td>\n",
       "      <td>setosa</td>\n",
       "    </tr>\n",
       "    <tr>\n",
       "      <th>1</th>\n",
       "      <td>4.9</td>\n",
       "      <td>3.0</td>\n",
       "      <td>1.4</td>\n",
       "      <td>0.2</td>\n",
       "      <td>setosa</td>\n",
       "    </tr>\n",
       "    <tr>\n",
       "      <th>2</th>\n",
       "      <td>4.7</td>\n",
       "      <td>3.2</td>\n",
       "      <td>1.3</td>\n",
       "      <td>0.2</td>\n",
       "      <td>setosa</td>\n",
       "    </tr>\n",
       "    <tr>\n",
       "      <th>3</th>\n",
       "      <td>4.6</td>\n",
       "      <td>3.1</td>\n",
       "      <td>1.5</td>\n",
       "      <td>0.2</td>\n",
       "      <td>setosa</td>\n",
       "    </tr>\n",
       "    <tr>\n",
       "      <th>4</th>\n",
       "      <td>5.0</td>\n",
       "      <td>3.6</td>\n",
       "      <td>1.4</td>\n",
       "      <td>0.2</td>\n",
       "      <td>setosa</td>\n",
       "    </tr>\n",
       "  </tbody>\n",
       "</table>\n",
       "</div>"
      ],
      "text/plain": [
       "   sepal_length  sepal_width  petal_length  petal_width species\n",
       "0           5.1          3.5           1.4          0.2  setosa\n",
       "1           4.9          3.0           1.4          0.2  setosa\n",
       "2           4.7          3.2           1.3          0.2  setosa\n",
       "3           4.6          3.1           1.5          0.2  setosa\n",
       "4           5.0          3.6           1.4          0.2  setosa"
      ]
     },
     "execution_count": 74,
     "metadata": {},
     "output_type": "execute_result"
    }
   ],
   "source": [
    "#ordinal encoding\n",
    "dataset_ordinal.head(5)"
   ]
  },
  {
   "cell_type": "code",
   "execution_count": 75,
   "id": "adb3b16f",
   "metadata": {},
   "outputs": [
    {
     "data": {
      "text/plain": [
       "array(['setosa', 'versicolor', 'virginica'], dtype=object)"
      ]
     },
     "execution_count": 75,
     "metadata": {},
     "output_type": "execute_result"
    }
   ],
   "source": [
    "dataset_iris['species'].unique()"
   ]
  },
  {
   "cell_type": "code",
   "execution_count": 77,
   "id": "aadbd433",
   "metadata": {},
   "outputs": [
    {
     "data": {
      "text/html": [
       "<div>\n",
       "<style scoped>\n",
       "    .dataframe tbody tr th:only-of-type {\n",
       "        vertical-align: middle;\n",
       "    }\n",
       "\n",
       "    .dataframe tbody tr th {\n",
       "        vertical-align: top;\n",
       "    }\n",
       "\n",
       "    .dataframe thead th {\n",
       "        text-align: right;\n",
       "    }\n",
       "</style>\n",
       "<table border=\"1\" class=\"dataframe\">\n",
       "  <thead>\n",
       "    <tr style=\"text-align: right;\">\n",
       "      <th></th>\n",
       "      <th>sepal_length</th>\n",
       "      <th>sepal_width</th>\n",
       "      <th>petal_length</th>\n",
       "      <th>petal_width</th>\n",
       "      <th>species</th>\n",
       "    </tr>\n",
       "  </thead>\n",
       "  <tbody>\n",
       "    <tr>\n",
       "      <th>0</th>\n",
       "      <td>5.1</td>\n",
       "      <td>3.5</td>\n",
       "      <td>1.4</td>\n",
       "      <td>0.2</td>\n",
       "      <td>0</td>\n",
       "    </tr>\n",
       "    <tr>\n",
       "      <th>1</th>\n",
       "      <td>4.9</td>\n",
       "      <td>3.0</td>\n",
       "      <td>1.4</td>\n",
       "      <td>0.2</td>\n",
       "      <td>0</td>\n",
       "    </tr>\n",
       "    <tr>\n",
       "      <th>2</th>\n",
       "      <td>4.7</td>\n",
       "      <td>3.2</td>\n",
       "      <td>1.3</td>\n",
       "      <td>0.2</td>\n",
       "      <td>0</td>\n",
       "    </tr>\n",
       "    <tr>\n",
       "      <th>3</th>\n",
       "      <td>4.6</td>\n",
       "      <td>3.1</td>\n",
       "      <td>1.5</td>\n",
       "      <td>0.2</td>\n",
       "      <td>0</td>\n",
       "    </tr>\n",
       "    <tr>\n",
       "      <th>4</th>\n",
       "      <td>5.0</td>\n",
       "      <td>3.6</td>\n",
       "      <td>1.4</td>\n",
       "      <td>0.2</td>\n",
       "      <td>0</td>\n",
       "    </tr>\n",
       "  </tbody>\n",
       "</table>\n",
       "</div>"
      ],
      "text/plain": [
       "   sepal_length  sepal_width  petal_length  petal_width  species\n",
       "0           5.1          3.5           1.4          0.2        0\n",
       "1           4.9          3.0           1.4          0.2        0\n",
       "2           4.7          3.2           1.3          0.2        0\n",
       "3           4.6          3.1           1.5          0.2        0\n",
       "4           5.0          3.6           1.4          0.2        0"
      ]
     },
     "execution_count": 77,
     "metadata": {},
     "output_type": "execute_result"
    }
   ],
   "source": [
    "#bikin alat\n",
    "encoder_ordinal =OrdinalEncoder()\n",
    "\n",
    "#encoding kan\n",
    "dataset_ordinal['species'] = encoder_ordinal.fit_transform(dataset_ordinal[['species']]).astype('int64')\n",
    "\n",
    "#lihat\n",
    "dataset_ordinal.head(5)"
   ]
  },
  {
   "cell_type": "code",
   "execution_count": 78,
   "id": "4777eeff",
   "metadata": {},
   "outputs": [
    {
     "data": {
      "text/plain": [
       "array([0, 1, 2], dtype=int64)"
      ]
     },
     "execution_count": 78,
     "metadata": {},
     "output_type": "execute_result"
    }
   ],
   "source": [
    "dataset_ordinal['species'].unique()"
   ]
  },
  {
   "cell_type": "code",
   "execution_count": 79,
   "id": "222b26ab",
   "metadata": {},
   "outputs": [
    {
     "data": {
      "text/html": [
       "<div>\n",
       "<style scoped>\n",
       "    .dataframe tbody tr th:only-of-type {\n",
       "        vertical-align: middle;\n",
       "    }\n",
       "\n",
       "    .dataframe tbody tr th {\n",
       "        vertical-align: top;\n",
       "    }\n",
       "\n",
       "    .dataframe thead th {\n",
       "        text-align: right;\n",
       "    }\n",
       "</style>\n",
       "<table border=\"1\" class=\"dataframe\">\n",
       "  <thead>\n",
       "    <tr style=\"text-align: right;\">\n",
       "      <th></th>\n",
       "      <th>species_setosa</th>\n",
       "      <th>species_versicolor</th>\n",
       "      <th>species_virginica</th>\n",
       "    </tr>\n",
       "  </thead>\n",
       "  <tbody>\n",
       "    <tr>\n",
       "      <th>0</th>\n",
       "      <td>1</td>\n",
       "      <td>0</td>\n",
       "      <td>0</td>\n",
       "    </tr>\n",
       "    <tr>\n",
       "      <th>1</th>\n",
       "      <td>1</td>\n",
       "      <td>0</td>\n",
       "      <td>0</td>\n",
       "    </tr>\n",
       "    <tr>\n",
       "      <th>2</th>\n",
       "      <td>1</td>\n",
       "      <td>0</td>\n",
       "      <td>0</td>\n",
       "    </tr>\n",
       "    <tr>\n",
       "      <th>3</th>\n",
       "      <td>1</td>\n",
       "      <td>0</td>\n",
       "      <td>0</td>\n",
       "    </tr>\n",
       "    <tr>\n",
       "      <th>4</th>\n",
       "      <td>1</td>\n",
       "      <td>0</td>\n",
       "      <td>0</td>\n",
       "    </tr>\n",
       "  </tbody>\n",
       "</table>\n",
       "</div>"
      ],
      "text/plain": [
       "   species_setosa  species_versicolor  species_virginica\n",
       "0               1                   0                  0\n",
       "1               1                   0                  0\n",
       "2               1                   0                  0\n",
       "3               1                   0                  0\n",
       "4               1                   0                  0"
      ]
     },
     "execution_count": 79,
     "metadata": {},
     "output_type": "execute_result"
    }
   ],
   "source": [
    "temp_dataset = pd.get_dummies(dataset_one_hot[['species']]) #one hot encoding\n",
    "\n",
    "#bikin dataframe\n",
    "temp_dataset = pd.DataFrame(temp_dataset)\n",
    "\n",
    "temp_dataset.head(5)"
   ]
  },
  {
   "cell_type": "code",
   "execution_count": 94,
   "id": "b00967ad",
   "metadata": {},
   "outputs": [
    {
     "data": {
      "text/html": [
       "<div>\n",
       "<style scoped>\n",
       "    .dataframe tbody tr th:only-of-type {\n",
       "        vertical-align: middle;\n",
       "    }\n",
       "\n",
       "    .dataframe tbody tr th {\n",
       "        vertical-align: top;\n",
       "    }\n",
       "\n",
       "    .dataframe thead th {\n",
       "        text-align: right;\n",
       "    }\n",
       "</style>\n",
       "<table border=\"1\" class=\"dataframe\">\n",
       "  <thead>\n",
       "    <tr style=\"text-align: right;\">\n",
       "      <th></th>\n",
       "      <th>sepal_length</th>\n",
       "      <th>sepal_width</th>\n",
       "      <th>petal_length</th>\n",
       "      <th>petal_width</th>\n",
       "      <th>species_setosa</th>\n",
       "      <th>species_versicolor</th>\n",
       "      <th>species_virginica</th>\n",
       "    </tr>\n",
       "  </thead>\n",
       "  <tbody>\n",
       "    <tr>\n",
       "      <th>0</th>\n",
       "      <td>5.1</td>\n",
       "      <td>3.5</td>\n",
       "      <td>1.4</td>\n",
       "      <td>0.2</td>\n",
       "      <td>1</td>\n",
       "      <td>0</td>\n",
       "      <td>0</td>\n",
       "    </tr>\n",
       "    <tr>\n",
       "      <th>1</th>\n",
       "      <td>4.9</td>\n",
       "      <td>3.0</td>\n",
       "      <td>1.4</td>\n",
       "      <td>0.2</td>\n",
       "      <td>1</td>\n",
       "      <td>0</td>\n",
       "      <td>0</td>\n",
       "    </tr>\n",
       "    <tr>\n",
       "      <th>2</th>\n",
       "      <td>4.7</td>\n",
       "      <td>3.2</td>\n",
       "      <td>1.3</td>\n",
       "      <td>0.2</td>\n",
       "      <td>1</td>\n",
       "      <td>0</td>\n",
       "      <td>0</td>\n",
       "    </tr>\n",
       "    <tr>\n",
       "      <th>3</th>\n",
       "      <td>4.6</td>\n",
       "      <td>3.1</td>\n",
       "      <td>1.5</td>\n",
       "      <td>0.2</td>\n",
       "      <td>1</td>\n",
       "      <td>0</td>\n",
       "      <td>0</td>\n",
       "    </tr>\n",
       "    <tr>\n",
       "      <th>4</th>\n",
       "      <td>5.0</td>\n",
       "      <td>3.6</td>\n",
       "      <td>1.4</td>\n",
       "      <td>0.2</td>\n",
       "      <td>1</td>\n",
       "      <td>0</td>\n",
       "      <td>0</td>\n",
       "    </tr>\n",
       "  </tbody>\n",
       "</table>\n",
       "</div>"
      ],
      "text/plain": [
       "   sepal_length  sepal_width  petal_length  petal_width  species_setosa  \\\n",
       "0           5.1          3.5           1.4          0.2               1   \n",
       "1           4.9          3.0           1.4          0.2               1   \n",
       "2           4.7          3.2           1.3          0.2               1   \n",
       "3           4.6          3.1           1.5          0.2               1   \n",
       "4           5.0          3.6           1.4          0.2               1   \n",
       "\n",
       "   species_versicolor  species_virginica  \n",
       "0                   0                  0  \n",
       "1                   0                  0  \n",
       "2                   0                  0  \n",
       "3                   0                  0  \n",
       "4                   0                  0  "
      ]
     },
     "execution_count": 94,
     "metadata": {},
     "output_type": "execute_result"
    }
   ],
   "source": [
    "temp_dataset = pd.get_dummies(dataset_one_hot[['species']]) #one hot encoding\n",
    "\n",
    "temp_dataset = pd.DataFrame(temp_dataset)\n",
    "\n",
    "dataset_one_hot.drop('species', axis=1, inplace=True)\n",
    "\n",
    "dataset_one_hot = dataset_one_hot.join(temp_dataset)\n",
    "dataset_one_hot.head(5)"
   ]
  },
  {
   "cell_type": "code",
   "execution_count": null,
   "id": "0012630f",
   "metadata": {},
   "outputs": [],
   "source": []
  }
 ],
 "metadata": {
  "kernelspec": {
   "display_name": "Python 3 (ipykernel)",
   "language": "python",
   "name": "python3"
  },
  "language_info": {
   "codemirror_mode": {
    "name": "ipython",
    "version": 3
   },
   "file_extension": ".py",
   "mimetype": "text/x-python",
   "name": "python",
   "nbconvert_exporter": "python",
   "pygments_lexer": "ipython3",
   "version": "3.10.7"
  }
 },
 "nbformat": 4,
 "nbformat_minor": 5
}
