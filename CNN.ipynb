{
 "cells": [
  {
   "cell_type": "markdown",
   "metadata": {},
   "source": [
    "## PERTEMUAN 10"
   ]
  },
  {
   "cell_type": "code",
   "execution_count": 17,
   "metadata": {},
   "outputs": [],
   "source": [
    "import tensorflow as tf\n",
    "import tensorflow_datasets as tfds\n",
    "import numpy as np\n",
    "import matplotlib.pyplot as plt"
   ]
  },
  {
   "cell_type": "code",
   "execution_count": 18,
   "metadata": {},
   "outputs": [],
   "source": [
    "(train, val, test), info = tfds.load('fashion_mnist', split=['train[:80%]', 'train[80%:]', 'test'], as_supervised=True, with_info='True')"
   ]
  },
  {
   "cell_type": "code",
   "execution_count": 19,
   "metadata": {},
   "outputs": [],
   "source": [
    "def normalize_img(image, label):\n",
    "    return tf.cast(image, tf.float32)/255, label\n",
    "\n",
    "train = train.map(normalize_img, num_parallel_calls=tf.data.AUTOTUNE)\n",
    "train = train.cache()\n",
    "train = train.batch(128)\n",
    "train = train.prefetch(tf.data.AUTOTUNE)\n",
    "\n",
    "val = val.map(normalize_img, num_parallel_calls=tf.data.AUTOTUNE)\n",
    "val = val.cache()\n",
    "val = val.batch(128)\n",
    "val = val.prefetch(tf.data.AUTOTUNE)\n",
    "\n",
    "test = test.map(normalize_img, num_parallel_calls=tf.data.AUTOTUNE)\n",
    "test = test.cache()\n",
    "test = test.batch(128)\n",
    "test = test.prefetch(tf.data.AUTOTUNE)"
   ]
  },
  {
   "cell_type": "code",
   "execution_count": 20,
   "metadata": {},
   "outputs": [],
   "source": [
    "model = tf.keras.Sequential([\n",
    "    tf.keras.layers.Conv2D(32, (3,3), activation='relu', input_shape=[28, 28, 1]),\n",
    "    tf.keras.layers.MaxPooling2D(3,3), \n",
    "    tf.keras.layers.Flatten(),\n",
    "    tf.keras.layers.Dense(64, activation='relu'),\n",
    "    tf.keras.layers.Dense(10, activation='softmax')\n",
    "\n",
    "])"
   ]
  },
  {
   "cell_type": "code",
   "execution_count": 25,
   "metadata": {},
   "outputs": [],
   "source": [
    "model.compile(optimizer='Adam', loss='sparse_categorical_crossentropy', metrics=['accuracy'])"
   ]
  },
  {
   "cell_type": "code",
   "execution_count": 26,
   "metadata": {},
   "outputs": [
    {
     "name": "stdout",
     "output_type": "stream",
     "text": [
      "Epoch 1/10\n",
      "375/375 [==============================] - 12s 30ms/step - loss: 0.6168 - accuracy: 0.7838 - val_loss: 0.4235 - val_accuracy: 0.8503\n",
      "Epoch 2/10\n",
      "375/375 [==============================] - 10s 28ms/step - loss: 0.4023 - accuracy: 0.8581 - val_loss: 0.3599 - val_accuracy: 0.8737\n",
      "Epoch 3/10\n",
      "375/375 [==============================] - 11s 29ms/step - loss: 0.3573 - accuracy: 0.8740 - val_loss: 0.3344 - val_accuracy: 0.8773\n",
      "Epoch 4/10\n",
      "375/375 [==============================] - 11s 28ms/step - loss: 0.3302 - accuracy: 0.8825 - val_loss: 0.3155 - val_accuracy: 0.8846\n",
      "Epoch 5/10\n",
      "375/375 [==============================] - 11s 30ms/step - loss: 0.3102 - accuracy: 0.8895 - val_loss: 0.3023 - val_accuracy: 0.8879\n",
      "Epoch 6/10\n",
      "375/375 [==============================] - 11s 29ms/step - loss: 0.2941 - accuracy: 0.8951 - val_loss: 0.2925 - val_accuracy: 0.8916\n",
      "Epoch 7/10\n",
      "375/375 [==============================] - 11s 29ms/step - loss: 0.2809 - accuracy: 0.8997 - val_loss: 0.2847 - val_accuracy: 0.8942\n",
      "Epoch 8/10\n",
      "375/375 [==============================] - 11s 29ms/step - loss: 0.2695 - accuracy: 0.9034 - val_loss: 0.2797 - val_accuracy: 0.8957\n",
      "Epoch 9/10\n",
      "375/375 [==============================] - 11s 30ms/step - loss: 0.2590 - accuracy: 0.9066 - val_loss: 0.2734 - val_accuracy: 0.8985\n",
      "Epoch 10/10\n",
      "375/375 [==============================] - 11s 29ms/step - loss: 0.2499 - accuracy: 0.9100 - val_loss: 0.2669 - val_accuracy: 0.9018\n"
     ]
    }
   ],
   "source": [
    "hasil = model.fit(train, epochs=10, validation_data=val)"
   ]
  },
  {
   "cell_type": "code",
   "execution_count": null,
   "metadata": {},
   "outputs": [],
   "source": []
  },
  {
   "cell_type": "code",
   "execution_count": null,
   "metadata": {},
   "outputs": [],
   "source": []
  },
  {
   "cell_type": "code",
   "execution_count": null,
   "metadata": {},
   "outputs": [],
   "source": []
  }
 ],
 "metadata": {
  "kernelspec": {
   "display_name": "Python 3.10.7 64-bit",
   "language": "python",
   "name": "python3"
  },
  "language_info": {
   "codemirror_mode": {
    "name": "ipython",
    "version": 3
   },
   "file_extension": ".py",
   "mimetype": "text/x-python",
   "name": "python",
   "nbconvert_exporter": "python",
   "pygments_lexer": "ipython3",
   "version": "3.10.7"
  },
  "orig_nbformat": 4,
  "vscode": {
   "interpreter": {
    "hash": "0688a561721c1d45ed17f12f7ca1d463e3643a56cc5dac145b94456e634fc76d"
   }
  }
 },
 "nbformat": 4,
 "nbformat_minor": 2
}
