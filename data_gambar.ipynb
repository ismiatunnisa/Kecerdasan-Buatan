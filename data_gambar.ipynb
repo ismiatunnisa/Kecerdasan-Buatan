{
 "cells": [
  {
   "cell_type": "code",
   "execution_count": 1,
   "metadata": {},
   "outputs": [],
   "source": [
    "import os \n",
    "import shutil #memanipulasi data\n",
    "import random"
   ]
  },
  {
   "cell_type": "code",
   "execution_count": 12,
   "metadata": {},
   "outputs": [],
   "source": [
    "#membagi data gambar\n",
    "#menentukan variabel\n",
    "\n",
    "root_path = r'C:\\Users\\PC-10\\Documents\\KB-C2\\dataset'\n",
    "source_path = os.path.join(root_path, 'data_gambar')\n",
    "destination = os.path.join(root_path, 'data_used')\n"
   ]
  },
  {
   "cell_type": "markdown",
   "metadata": {},
   "source": [
    "# spliting data gambar\n",
    "\n",
    "1. mengambil informasi kelasnya apa aja , berapa banyak gambarnya\n",
    "2. buat folder\n",
    "3. ambil semua nama filenya\n",
    "4. split data\n",
    "5. copy"
   ]
  },
  {
   "cell_type": "code",
   "execution_count": 8,
   "metadata": {},
   "outputs": [
    {
     "data": {
      "text/plain": [
       "{'paper': 712, 'rock': 726, 'scissors': 750}"
      ]
     },
     "execution_count": 8,
     "metadata": {},
     "output_type": "execute_result"
    }
   ],
   "source": [
    "folders = {}\n",
    "\n",
    "for folder in os.listdir(source_path):\n",
    "    folders[folder] = len(os.listdir(os.path.join(source_path, folder)))\n",
    "\n",
    "folders\n"
   ]
  },
  {
   "cell_type": "code",
   "execution_count": 15,
   "metadata": {},
   "outputs": [
    {
     "name": "stdout",
     "output_type": "stream",
     "text": [
      "pathC:\\Users\\PC-10\\Documents\\KB-C2\\dataset\\data_used\\trainingsudah ada\n"
     ]
    }
   ],
   "source": [
    "#buat folder untuk menyimpan\n",
    "#mengecek\n",
    "\n",
    "if os.path.isdir(os.path.join(destination, 'training')):\n",
    "    print(f\"path{os.path.join(destination,'training')}sudah ada\")\n",
    "else:\n",
    "    os.makedirs(os.path.join(destination, 'training'))\n",
    "    for folder in folders.keys():\n",
    "        os.makedirs(os.path.join(destination, f'training/{folder}'))\n",
    "\n",
    "if os.path.isdir(os.path.join(destination, 'validation')):\n",
    "    print(f\"path{os.path.join(destination,'validation')}sudah ada\")\n",
    "else:\n",
    "    os.makedirs(os.path.join(destination, 'validation'))\n",
    "    for folder in folders.keys():\n",
    "        os.makedirs(os.path.join(destination, f'validation/{folder}'))"
   ]
  },
  {
   "cell_type": "code",
   "execution_count": 17,
   "metadata": {},
   "outputs": [],
   "source": [
    "#mengambil data\n",
    "files = {\n",
    "    \"paper\": [],\n",
    "    \"rock\":[],\n",
    "    \"scissors\":[] \n",
    "    }\n",
    "\n",
    "for folder in files.keys():\n",
    "    for file in os.listdir(os.path.join(source_path, folder)):\n",
    "        if os.path.getsize(os.path.join(source_path, f\"{folder}/{file}\")):\n",
    "            files[folder].append(file)\n",
    "        else:\n",
    "            print(f'file{file} dilewati saja')"
   ]
  },
  {
   "cell_type": "code",
   "execution_count": 22,
   "metadata": {},
   "outputs": [],
   "source": [
    "#split data random\n",
    "for folder in files.keys():\n",
    "    files[folder] = random.sample(files[folder], len(files[folder]))\n",
    "\n",
    "file_training={\n",
    "    \"paper\": [],\n",
    "    \"rock\":[],\n",
    "    \"scissors\":[] \n",
    "}\n",
    "file_validation={\n",
    "    \"paper\": [],\n",
    "    \"rock\":[],\n",
    "    \"scissors\":[] \n",
    "}\n"
   ]
  },
  {
   "cell_type": "code",
   "execution_count": 23,
   "metadata": {},
   "outputs": [
    {
     "data": {
      "text/plain": [
       "662"
      ]
     },
     "execution_count": 23,
     "metadata": {},
     "output_type": "execute_result"
    }
   ],
   "source": [
    "for folder in file_training.keys():\n",
    "    file_training[folder] = files[folder][:-50]\n",
    "for folder in file_validation.keys():\n",
    "    file_validation[folder] = files[folder][-50:]\n",
    "len(file_training['paper'])"
   ]
  },
  {
   "cell_type": "code",
   "execution_count": 29,
   "metadata": {},
   "outputs": [],
   "source": [
    "for  folder in file_training.keys():\n",
    "    for file in file_training[folder]:\n",
    "        shutil.copyfile(\n",
    "            os.path.join(source_path, f'{folder}/{file}'),\n",
    "            os.path.join(destination, f'training/{folder}/{file}')\n",
    "        )\n",
    "        \n",
    "    for file in file_validation[folder]:\n",
    "        shutil.copyfile(\n",
    "            os.path.join(source_path, f'{folder}/{file}'),\n",
    "            os.path.join(destination, f'validation/{folder}/{file}')\n",
    "        )"
   ]
  },
  {
   "cell_type": "code",
   "execution_count": null,
   "metadata": {},
   "outputs": [],
   "source": []
  }
 ],
 "metadata": {
  "kernelspec": {
   "display_name": "Python 3.10.7 64-bit",
   "language": "python",
   "name": "python3"
  },
  "language_info": {
   "codemirror_mode": {
    "name": "ipython",
    "version": 3
   },
   "file_extension": ".py",
   "mimetype": "text/x-python",
   "name": "python",
   "nbconvert_exporter": "python",
   "pygments_lexer": "ipython3",
   "version": "3.10.7"
  },
  "orig_nbformat": 4,
  "vscode": {
   "interpreter": {
    "hash": "0688a561721c1d45ed17f12f7ca1d463e3643a56cc5dac145b94456e634fc76d"
   }
  }
 },
 "nbformat": 4,
 "nbformat_minor": 2
}
